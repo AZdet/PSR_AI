{
 "cells": [
  {
   "cell_type": "code",
   "execution_count": 1,
   "metadata": {},
   "outputs": [
    {
     "name": "stderr",
     "output_type": "stream",
     "text": [
      "Using TensorFlow backend.\n"
     ]
    }
   ],
   "source": [
    "import keras\n",
    "from keras.models import Sequential\n",
    "from keras.layers import *"
   ]
  },
  {
   "cell_type": "code",
   "execution_count": 2,
   "metadata": {},
   "outputs": [],
   "source": [
    "import numpy as np"
   ]
  },
  {
   "cell_type": "code",
   "execution_count": 3,
   "metadata": {},
   "outputs": [],
   "source": [
    "time_step = 10\n",
    "BATCH_SIZE = 32\n",
    "EPOCH = 10"
   ]
  },
  {
   "cell_type": "code",
   "execution_count": 4,
   "metadata": {},
   "outputs": [],
   "source": [
    "model = Sequential()\n",
    "model.add(Embedding(9 , 9, input_length= 1))\n",
    "model.add(GRU(5, input_shape = (None, 1)))\n",
    "model.add(Dense(3))\n",
    "model.add(Activation(\"softmax\"))\n"
   ]
  },
  {
   "cell_type": "code",
   "execution_count": 5,
   "metadata": {},
   "outputs": [],
   "source": [
    "model.compile(loss=\"categorical_crossentropy\", optimizer=\"adam\", metrics=[\"accuracy\"])"
   ]
  },
  {
   "cell_type": "code",
   "execution_count": 6,
   "metadata": {},
   "outputs": [],
   "source": [
    "class Dictionary(object):\n",
    "    def __init__(self):\n",
    "        self.word2idx = {}\n",
    "        self.idx2word = []\n",
    "\n",
    "    def add_word(self, word):\n",
    "        if word not in self.word2idx:\n",
    "            self.idx2word.append(word)\n",
    "            self.word2idx[word] = len(self.idx2word) - 1\n",
    "        return self.word2idx[word]\n",
    "\n",
    "    def __len__(self):\n",
    "        return len(self.idx2word)\n",
    "    \n",
    "def one_hots(numerical_list, vocab_size):\n",
    "    result = np.zeros((len(numerical_list), vocab_size))\n",
    "    for i, idx in enumerate(numerical_list):\n",
    "        result[i, idx] = 1.0\n",
    "    return result"
   ]
  },
  {
   "cell_type": "code",
   "execution_count": 7,
   "metadata": {},
   "outputs": [],
   "source": [
    "data_dict = Dictionary()\n",
    "def tokenize(dic, path):\n",
    "        \"\"\"Tokenizes a text file.\"\"\"\n",
    "        # Add words to the dictionary\n",
    "        with open(path, 'r') as f:    # in my case, only one word each line\n",
    "            tokens = 0\n",
    "            for line in f:\n",
    "                #words = line.split() + ['<eos>']\n",
    "                tokens += 1#len(words)\n",
    "                #for word in words:\n",
    "                    #self.dictionary.add_word(word)\n",
    "                dic.add_word(line)\n",
    "\n",
    "        # Tokenize file content\n",
    "        with open(path, 'r') as f:\n",
    "            ids = np.zeros((tokens,), dtype='int32')\n",
    "            token = 0\n",
    "            for line in f:\n",
    "                #words = line.split() + ['<eos>']\n",
    "                #for word in words:\n",
    "                    #ids[token] = self.dictionary.word2idx[word]\n",
    "                    #token += 1\n",
    "                ids[token] = dic.word2idx[line]\n",
    "                token += 1\n",
    "\n",
    "        return ids"
   ]
  },
  {
   "cell_type": "code",
   "execution_count": 8,
   "metadata": {},
   "outputs": [],
   "source": [
    "\"\"\"make sure that data_dict is initialized\"\"\"\n",
    "def tokenize_list(lst):\n",
    "    tokens = lst.len\n",
    "    ids = np.zeros((tokens,), dtype='int32')\n",
    "    token = 0\n",
    "    for ele in lst:\n",
    "        ids[token] = data_dict.word2idx[ele]\n",
    "        token += 1\n",
    "    return ids"
   ]
  },
  {
   "cell_type": "code",
   "execution_count": null,
   "metadata": {},
   "outputs": [],
   "source": []
  },
  {
   "cell_type": "code",
   "execution_count": 9,
   "metadata": {},
   "outputs": [],
   "source": [
    "data1 = tokenize(data_dict, 'test6.txt')"
   ]
  },
  {
   "cell_type": "code",
   "execution_count": 10,
   "metadata": {},
   "outputs": [
    {
     "data": {
      "text/plain": [
       "dict_items([('r1\\n', 3), ('r0\\n', 7), ('p-1\\n', 2), ('s0\\n', 8), ('s-1\\n', 0), ('s1\\n', 5), ('p0\\n', 6), ('r-1\\n', 4), ('p1\\n', 1)])"
      ]
     },
     "execution_count": 10,
     "metadata": {},
     "output_type": "execute_result"
    }
   ],
   "source": [
    "data_dict.word2idx.items()"
   ]
  },
  {
   "cell_type": "code",
   "execution_count": 11,
   "metadata": {},
   "outputs": [
    {
     "data": {
      "text/plain": [
       "['s-1\\n', 'p1\\n', 'p-1\\n', 'r1\\n', 'r-1\\n', 's1\\n', 'p0\\n', 'r0\\n', 's0\\n']"
      ]
     },
     "execution_count": 11,
     "metadata": {},
     "output_type": "execute_result"
    }
   ],
   "source": [
    "    data_dict.idx2word"
   ]
  },
  {
   "cell_type": "code",
   "execution_count": 12,
   "metadata": {},
   "outputs": [],
   "source": [
    "data = one_hots(data1[0:30] ,9)"
   ]
  },
  {
   "cell_type": "code",
   "execution_count": 13,
   "metadata": {},
   "outputs": [],
   "source": [
    "data2 = data1[:5000]"
   ]
  },
  {
   "cell_type": "code",
   "execution_count": 14,
   "metadata": {},
   "outputs": [
    {
     "data": {
      "text/plain": [
       "array([0, 1, 2, ..., 3, 4, 5], dtype=int32)"
      ]
     },
     "execution_count": 14,
     "metadata": {},
     "output_type": "execute_result"
    }
   ],
   "source": [
    "data1"
   ]
  },
  {
   "cell_type": "code",
   "execution_count": 15,
   "metadata": {},
   "outputs": [],
   "source": [
    "label_dict = Dictionary()\n",
    "label1 = tokenize(label_dict, 'label2.txt')"
   ]
  },
  {
   "cell_type": "code",
   "execution_count": 16,
   "metadata": {},
   "outputs": [
    {
     "data": {
      "text/plain": [
       "['p\\n', 'r\\n', 's\\n']"
      ]
     },
     "execution_count": 16,
     "metadata": {},
     "output_type": "execute_result"
    }
   ],
   "source": [
    "label_dict.idx2word"
   ]
  },
  {
   "cell_type": "code",
   "execution_count": 17,
   "metadata": {},
   "outputs": [],
   "source": [
    "label = one_hots(label1, 3)"
   ]
  },
  {
   "cell_type": "code",
   "execution_count": 18,
   "metadata": {},
   "outputs": [
    {
     "data": {
      "text/plain": [
       "array([[ 1.,  0.,  0.],\n",
       "       [ 1.,  0.,  0.],\n",
       "       [ 0.,  1.,  0.],\n",
       "       ..., \n",
       "       [ 0.,  1.,  0.],\n",
       "       [ 0.,  1.,  0.],\n",
       "       [ 0.,  0.,  1.]])"
      ]
     },
     "execution_count": 18,
     "metadata": {},
     "output_type": "execute_result"
    }
   ],
   "source": [
    "label"
   ]
  },
  {
   "cell_type": "code",
   "execution_count": 19,
   "metadata": {},
   "outputs": [],
   "source": [
    "test_data = tokenize(data_dict, 'test7.txt')\n",
    "label2 = tokenize(label_dict, 'label3.txt')\n",
    "test_label = one_hots(label2, 3)"
   ]
  },
  {
   "cell_type": "code",
   "execution_count": 20,
   "metadata": {},
   "outputs": [
    {
     "data": {
      "text/plain": [
       "array([[ 1.,  0.,  0.],\n",
       "       [ 1.,  0.,  0.],\n",
       "       [ 0.,  1.,  0.],\n",
       "       ..., \n",
       "       [ 0.,  1.,  0.],\n",
       "       [ 0.,  1.,  0.],\n",
       "       [ 0.,  0.,  1.]])"
      ]
     },
     "execution_count": 20,
     "metadata": {},
     "output_type": "execute_result"
    }
   ],
   "source": [
    "label"
   ]
  },
  {
   "cell_type": "code",
   "execution_count": 21,
   "metadata": {},
   "outputs": [
    {
     "data": {
      "text/plain": [
       "array([[ 1.,  0.,  0.,  0.,  0.,  0.,  0.,  0.,  0.],\n",
       "       [ 0.,  1.,  0.,  0.,  0.,  0.,  0.,  0.,  0.],\n",
       "       [ 0.,  0.,  1.,  0.,  0.,  0.,  0.,  0.,  0.],\n",
       "       [ 0.,  0.,  0.,  1.,  0.,  0.,  0.,  0.,  0.],\n",
       "       [ 0.,  0.,  0.,  0.,  1.,  0.,  0.,  0.,  0.],\n",
       "       [ 0.,  0.,  0.,  0.,  0.,  1.,  0.,  0.,  0.],\n",
       "       [ 1.,  0.,  0.,  0.,  0.,  0.,  0.,  0.,  0.],\n",
       "       [ 0.,  1.,  0.,  0.,  0.,  0.,  0.,  0.,  0.],\n",
       "       [ 0.,  0.,  1.,  0.,  0.,  0.,  0.,  0.,  0.],\n",
       "       [ 0.,  0.,  0.,  1.,  0.,  0.,  0.,  0.,  0.],\n",
       "       [ 0.,  0.,  0.,  0.,  1.,  0.,  0.,  0.,  0.],\n",
       "       [ 0.,  0.,  0.,  0.,  0.,  1.,  0.,  0.,  0.],\n",
       "       [ 1.,  0.,  0.,  0.,  0.,  0.,  0.,  0.,  0.],\n",
       "       [ 0.,  1.,  0.,  0.,  0.,  0.,  0.,  0.,  0.],\n",
       "       [ 0.,  0.,  1.,  0.,  0.,  0.,  0.,  0.,  0.],\n",
       "       [ 0.,  0.,  0.,  1.,  0.,  0.,  0.,  0.,  0.],\n",
       "       [ 0.,  0.,  0.,  0.,  1.,  0.,  0.,  0.,  0.],\n",
       "       [ 0.,  0.,  0.,  0.,  0.,  1.,  0.,  0.,  0.],\n",
       "       [ 1.,  0.,  0.,  0.,  0.,  0.,  0.,  0.,  0.],\n",
       "       [ 0.,  1.,  0.,  0.,  0.,  0.,  0.,  0.,  0.],\n",
       "       [ 0.,  0.,  1.,  0.,  0.,  0.,  0.,  0.,  0.],\n",
       "       [ 0.,  0.,  0.,  1.,  0.,  0.,  0.,  0.,  0.],\n",
       "       [ 0.,  0.,  0.,  0.,  1.,  0.,  0.,  0.,  0.],\n",
       "       [ 0.,  0.,  0.,  0.,  0.,  1.,  0.,  0.,  0.],\n",
       "       [ 1.,  0.,  0.,  0.,  0.,  0.,  0.,  0.,  0.],\n",
       "       [ 0.,  1.,  0.,  0.,  0.,  0.,  0.,  0.,  0.],\n",
       "       [ 0.,  0.,  1.,  0.,  0.,  0.,  0.,  0.,  0.],\n",
       "       [ 0.,  0.,  0.,  1.,  0.,  0.,  0.,  0.,  0.],\n",
       "       [ 0.,  0.,  0.,  0.,  1.,  0.,  0.,  0.,  0.],\n",
       "       [ 0.,  0.,  0.,  0.,  0.,  1.,  0.,  0.,  0.]])"
      ]
     },
     "execution_count": 21,
     "metadata": {},
     "output_type": "execute_result"
    }
   ],
   "source": [
    "data"
   ]
  },
  {
   "cell_type": "code",
   "execution_count": 22,
   "metadata": {},
   "outputs": [
    {
     "name": "stdout",
     "output_type": "stream",
     "text": [
      "Epoch 1/10\n",
      "10000/10000 [==============================] - 1s 92us/step - loss: 0.6684 - acc: 0.9779\n",
      "Epoch 2/10\n",
      "10000/10000 [==============================] - 1s 69us/step - loss: 0.1046 - acc: 0.9904\n",
      "Epoch 3/10\n",
      "10000/10000 [==============================] - 1s 68us/step - loss: 0.0617 - acc: 0.9904\n",
      "Epoch 4/10\n",
      "10000/10000 [==============================] - 1s 69us/step - loss: 0.0544 - acc: 0.9904\n",
      "Epoch 5/10\n",
      "10000/10000 [==============================] - 1s 69us/step - loss: 0.0518 - acc: 0.9904\n",
      "Epoch 6/10\n",
      "10000/10000 [==============================] - 1s 67us/step - loss: 0.0506 - acc: 0.9904\n",
      "Epoch 7/10\n",
      "10000/10000 [==============================] - 1s 69us/step - loss: 0.0501 - acc: 0.9904\n",
      "Epoch 8/10\n",
      "10000/10000 [==============================] - 1s 69us/step - loss: 0.0498 - acc: 0.9904\n",
      "Epoch 9/10\n",
      "10000/10000 [==============================] - 1s 83us/step - loss: 0.0496 - acc: 0.9904\n",
      "Epoch 10/10\n",
      "10000/10000 [==============================] - 1s 74us/step - loss: 0.0495 - acc: 0.9904\n"
     ]
    },
    {
     "data": {
      "text/plain": [
       "<keras.callbacks.History at 0x7fed3024e5c0>"
      ]
     },
     "execution_count": 22,
     "metadata": {},
     "output_type": "execute_result"
    }
   ],
   "source": [
    "model.fit(data1[:-1], label, batch_size = BATCH_SIZE, epochs = EPOCH)"
   ]
  },
  {
   "cell_type": "code",
   "execution_count": 23,
   "metadata": {},
   "outputs": [],
   "source": [
    "test_data = data1[5000:-1]\n",
    "test_label = label[5000:]"
   ]
  },
  {
   "cell_type": "code",
   "execution_count": 24,
   "metadata": {
    "scrolled": true
   },
   "outputs": [
    {
     "name": "stdout",
     "output_type": "stream",
     "text": [
      "5000/5000 [==============================] - 0s 41us/step\n"
     ]
    },
    {
     "data": {
      "text/plain": [
       "[0.05712345275580883, 0.98839999999999995]"
      ]
     },
     "execution_count": 24,
     "metadata": {},
     "output_type": "execute_result"
    }
   ],
   "source": [
    "model.evaluate(test_data, test_label)"
   ]
  },
  {
   "cell_type": "code",
   "execution_count": 25,
   "metadata": {},
   "outputs": [
    {
     "data": {
      "text/plain": [
       "array([[ 0.98629063,  0.00247146,  0.01123792],\n",
       "       [ 0.99296933,  0.00302968,  0.00400091],\n",
       "       [ 0.00401622,  0.99473995,  0.00124383],\n",
       "       [ 0.00332963,  0.99560696,  0.00106341],\n",
       "       [ 0.00142087,  0.00511168,  0.99346751],\n",
       "       [ 0.00152824,  0.00425295,  0.99421883],\n",
       "       [ 0.23051289,  0.04346446,  0.72602266],\n",
       "       [ 0.69279879,  0.25966269,  0.04753849],\n",
       "       [ 0.05688603,  0.85667187,  0.08644207]], dtype=float32)"
      ]
     },
     "execution_count": 25,
     "metadata": {},
     "output_type": "execute_result"
    }
   ],
   "source": [
    "model.predict(np.array([0, 1, 2, 3, 4, 5, 6, 7, 8]))"
   ]
  },
  {
   "cell_type": "code",
   "execution_count": 26,
   "metadata": {},
   "outputs": [
    {
     "data": {
      "text/plain": [
       "0"
      ]
     },
     "execution_count": 26,
     "metadata": {},
     "output_type": "execute_result"
    }
   ],
   "source": [
    "np.argmax(model.predict(np.array([1])))"
   ]
  },
  {
   "cell_type": "code",
   "execution_count": 27,
   "metadata": {},
   "outputs": [],
   "source": [
    "import random as rd"
   ]
  },
  {
   "cell_type": "code",
   "execution_count": null,
   "metadata": {},
   "outputs": [
    {
     "name": "stdout",
     "output_type": "stream",
     "text": [
      "first time\n",
      "dict_items([(0, 47), (1, 11), (-1, 4942)])\n",
      "ok\n"
     ]
    }
   ],
   "source": [
    "lookTab = {\"r\": 0, \"s\": 1, \"p\": 2}\n",
    "[r, s, p] = [\"r\", \"s\", \"p\"]\n",
    "actions = [r, s, p]\n",
    "alpha = 1.1\n",
    "upbound = 5000\n",
    "[p11, p12, p13] = [0.001, 0.004, 0.995]  # w-, w+, w0\n",
    "[p21, p22, p23] = [0.063, 0.791, 0.146]  # t-, t+, t0\n",
    "[p31, p32, p33] = [0.989, 0.001, 0.01] # l-, l+, l0\n",
    "(win, tie, lose) = (1, 0, -1)\n",
    "\n",
    "def generateAction(p1, p2, p3):\n",
    "    n = rd.random()\n",
    "    if n < p1:\n",
    "        return actions[0]\n",
    "    elif n < p1 + p2:\n",
    "        return actions[1]\n",
    "    else:\n",
    "        return actions[2]\n",
    "\n",
    "\n",
    "def getRes(action1, action2):\n",
    "    if action1 == action2:\n",
    "        return (tie, tie)\n",
    "    elif (action1 == r and action2 == s)or\\\n",
    "         (action1 == s and action2 == p)or\\\n",
    "         (action1 == p and action2 == r):\n",
    "        return win, lose\n",
    "    else:\n",
    "        return lose, win\n",
    "\n",
    "\n",
    "\n",
    "\n",
    "class Player:\n",
    "    def __init__(self):\n",
    "        self.state = tie\n",
    "        self.action = s\n",
    "\n",
    "    def getAction(self):\n",
    "        idx = lookTab[self.action]\n",
    "        pr = [1/3, 1/3, 1/3]\n",
    "        if self.state == win:\n",
    "            pr[idx] = p13\n",
    "            pr[(idx+1)%3] = p11\n",
    "            idx -= 1\n",
    "            if idx < 0:\n",
    "                idx = 2\n",
    "            pr[idx] = p12\n",
    "        elif self.state == tie:\n",
    "            pr[idx] = p23\n",
    "            pr[(idx + 1) % 3] = p21\n",
    "            idx -= 1\n",
    "            if idx < 0:\n",
    "                idx = 2\n",
    "            pr[idx] = p22\n",
    "        else: #self.state == lose\n",
    "            pr[idx] = p33\n",
    "            pr[(idx + 1) % 3] = p31\n",
    "            idx -= 1\n",
    "            if idx < 0:\n",
    "                idx = 2\n",
    "            pr[idx] = p32\n",
    "        return generateAction(pr[0], pr[1], pr[2])\n",
    "\n",
    "\n",
    "    def setAction(self, new_action):\n",
    "        self.action = new_action\n",
    "\n",
    "class AI(Player):\n",
    "    def __init__(self):\n",
    "        Player.__init__(self)\n",
    "        self.time = 0\n",
    "        self.lst = []\n",
    "        \n",
    "    def receiveHistory(self, history):\n",
    "        self.lst.append(history)\n",
    "        \n",
    "    def getAction(self):\n",
    "        if self.time < 1:\n",
    "            print(\"first time\")\n",
    "            self.time += 1\n",
    "            #self.lst.append(opposite_action + str(-self.state) + '\\n')\n",
    "            return generateAction(1/3, 1/3, 1/3)\n",
    "        else:\n",
    "            #last_action = np.array([data_dict.word2idx[self.lst[-1]]])\n",
    "            #last_state = opposite_action + str(-self.state) + '\\n'\n",
    "            last_data = np.array([data_dict.word2idx[self.lst[-1]]])\n",
    "            idx = np.argmax(model.predict(last_data))\n",
    "            res = label_dict.idx2word[idx]\n",
    "            #print(words)\n",
    "            #symbols_in_keys = [dictionary[str(words[i])] for i in range(len(words))]\n",
    "            #keys = np.reshape(np.array(symbols_in_keys), [-1, 3, 1])\n",
    "            #onehot_pred = sess.run(pred, feed_dict={x: keys})\n",
    "            #onehot_pred_index = int(tf.argmax(onehot_pred, 1).eval(session=sess))\n",
    "            #symbols_in_keys = symbols_in_keys[1:]\n",
    "            #symbols_in_keys.append(onehot_pred_index)\n",
    "            #self.lst = self.lst[1:]\n",
    "            #self.lst.append(opposite_action + str(-self.state) + '\\n')\n",
    "            #res =  reverse_dictionary[onehot_pred_index][0]\n",
    "            \n",
    "            #assert(res in actions)\n",
    "            if res == 'r\\n':   # shift the predicted action to win the game \n",
    "                return 'p'\n",
    "            elif res == 's\\n':\n",
    "                return 'r'\n",
    "            else: # res == 'p'\n",
    "                return 's'\n",
    "            return res\n",
    "        \n",
    "p1 = Player()\n",
    "p2 = AI()\n",
    "action1 = generateAction(1/3, 1/3, 1/3)\n",
    "action2 = generateAction(1/3, 1/3, 1/3)\n",
    "p1.setAction(action1)\n",
    "p2.setAction(action2)\n",
    "(state1, state2) = getRes(action1, action2)\n",
    "p1.state = state1\n",
    "p2.state = state2\n",
    "p2.receiveHistory(action1 + str(state1) + '\\n')\n",
    "f = open('./res.txt', 'w+')#'C:\\Users\\lenovo\\Documents\\SRTP\\PSR_AI\\testcase\\test.txt', 'w')\n",
    "action1s = []\n",
    "action2s = []\n",
    "#action1 = action2 = None\n",
    "stat = {-1: 0, 0: 0, 1: 0}\n",
    "for i in range(upbound):\n",
    "    action1 = p1.getAction()\n",
    "    action2 = p2.getAction()\n",
    "    p1.setAction(action1)\n",
    "    p2.setAction(action2)\n",
    "    #print(\"action(p1,p2): \",action1,\" \",action2, \"\\n\")\n",
    "    action1s.append(action1)\n",
    "    action2s.append(action2)\n",
    "    #f.write(action1 + ' ' + action2 + ' ')\n",
    "    (state1, state2) = getRes(action1, action2)\n",
    "    stat[state1] += 1\n",
    "    p1.state = state1\n",
    "    p2.state = state2\n",
    "    p2.receiveHistory(action1 + str(state1) + '\\n')\n",
    "#count = 0\n",
    "#for ac1, ac2 in zip(action1s, action2s):\n",
    "#    f.write(ac1 + ' ' + ac2 + ' ' + str(getRes(ac1, ac2)[0]) + '\\n')#ac2 + '\\n')#+ ' ' + \n",
    "#    count += getRes(ac1, ac2)[0]\n",
    "#f.close()\n",
    "#print(count)\n",
    "print(stat.items())\n",
    "print('ok')"
   ]
  },
  {
   "cell_type": "code",
   "execution_count": null,
   "metadata": {},
   "outputs": [],
   "source": [
    "lookTab = {\"r\": 0, \"s\": 1, \"p\": 2}\n",
    "[r, s, p] = [\"r\", \"s\", \"p\"]\n",
    "actions = [r, s, p]\n",
    "alpha = 1.1\n",
    "upbound = 5000\n",
    "[p11, p12, p13] = [0.001, 0.004, 0.995]  # w-, w+, w0\n",
    "[p21, p22, p23] = [0.063, 0.791, 0.146]  # t-, t+, t0\n",
    "[p31, p32, p33] = [0.989, 0.001, 0.01] # l-, l+, l0\n",
    "(win, tie, lose) = (1, 0, -1)\n",
    "\n",
    "def generateAction(p1, p2, p3):\n",
    "    n = rd.random()\n",
    "    if n < p1:\n",
    "        return actions[0]\n",
    "    elif n < p1 + p2:\n",
    "        return actions[1]\n",
    "    else:\n",
    "        return actions[2]\n",
    "\n",
    "\n",
    "def getRes(action1, action2):\n",
    "    if action1 == action2:\n",
    "        return (tie, tie)\n",
    "    elif (action1 == r and action2 == s)or\\\n",
    "         (action1 == s and action2 == p)or\\\n",
    "         (action1 == p and action2 == r):\n",
    "        return win, lose\n",
    "    else:\n",
    "        return lose, win\n",
    "\n",
    "\n",
    "\n",
    "\n",
    "class Player:\n",
    "    def __init__(self):\n",
    "        self.state = tie\n",
    "        self.action = s\n",
    "\n",
    "    def getAction(self):\n",
    "        act = input(\">input: \")\n",
    "        assert(act in actions)\n",
    "        return act\n",
    "\n",
    "\n",
    "    def setAction(self, new_action):\n",
    "        self.action = new_action\n",
    "\n",
    "class AI(Player):\n",
    "    def __init__(self):\n",
    "        Player.__init__(self)\n",
    "        self.time = 0\n",
    "        self.lst = []\n",
    "        \n",
    "    def receiveHistory(self, history):\n",
    "        self.lst.append(history)\n",
    "        \n",
    "    def getAction(self):\n",
    "        if self.time < 1:\n",
    "            print(\"first time\")\n",
    "            self.time += 1\n",
    "            return generateAction(1/3, 1/3, 1/3)\n",
    "        else:\n",
    "            last_data = np.array([data_dict.word2idx[self.lst[-1]]])\n",
    "            idx = np.argmax(model.predict(last_data))\n",
    "            res = label_dict.idx2word[idx]\n",
    "        \n",
    "            if res == 'r\\n':   # shift the predicted action to win the game \n",
    "                return 'p'\n",
    "            elif res == 's\\n':\n",
    "                return 'r'\n",
    "            else: # res == 'p'\n",
    "                return 's'\n",
    "            return res\n",
    "        \n",
    "p1 = Player()\n",
    "p2 = AI()\n",
    "action1 = generateAction(1/3, 1/3, 1/3)\n",
    "action2 = generateAction(1/3, 1/3, 1/3)\n",
    "p1.setAction(action1)\n",
    "p2.setAction(action2)\n",
    "(state1, state2) = getRes(action1, action2)\n",
    "p1.state = state1\n",
    "p2.state = state2\n",
    "p2.receiveHistory(action1 + str(state1) + '\\n')\n",
    "#f = open('./res.txt', 'w+')#'C:\\Users\\lenovo\\Documents\\SRTP\\PSR_AI\\testcase\\test.txt', 'w')\n",
    "action1s = []\n",
    "action2s = []\n",
    "#action1 = action2 = None\n",
    "stat = {-1: 0, 0: 0, 1: 0}\n",
    "for i in range(upbound):\n",
    "    action1 = p1.getAction()\n",
    "    action2 = p2.getAction()\n",
    "    p1.setAction(action1)\n",
    "    p2.setAction(action2)\n",
    "    #print(\"action(p1,p2): \",action1,\" \",action2, \"\\n\")\n",
    "    action1s.append(action1)\n",
    "    action2s.append(action2)\n",
    "    #f.write(action1 + ' ' + action2 + ' ')\n",
    "    (state1, state2) = getRes(action1, action2)\n",
    "    stat[state1] += 1\n",
    "    p1.state = state1\n",
    "    p2.state = state2\n",
    "    p2.receiveHistory(action1 + str(state1) + '\\n')\n",
    "    print(stat.items())\n",
    "#count = 0\n",
    "#for ac1, ac2 in zip(action1s, action2s):\n",
    "#    f.write(ac1 + ' ' + ac2 + ' ' + str(getRes(ac1, ac2)[0]) + '\\n')#ac2 + '\\n')#+ ' ' + \n",
    "#    count += getRes(ac1, ac2)[0]\n",
    "#f.close()\n",
    "print(count)\n",
    "print(stat.items())\n",
    "print('ok')"
   ]
  },
  {
   "cell_type": "code",
   "execution_count": null,
   "metadata": {},
   "outputs": [],
   "source": []
  }
 ],
 "metadata": {
  "anaconda-cloud": {},
  "kernelspec": {
   "display_name": "Python 3",
   "language": "python",
   "name": "python3"
  },
  "language_info": {
   "codemirror_mode": {
    "name": "ipython",
    "version": 3
   },
   "file_extension": ".py",
   "mimetype": "text/x-python",
   "name": "python",
   "nbconvert_exporter": "python",
   "pygments_lexer": "ipython3",
   "version": "3.5.2"
  }
 },
 "nbformat": 4,
 "nbformat_minor": 1
}
