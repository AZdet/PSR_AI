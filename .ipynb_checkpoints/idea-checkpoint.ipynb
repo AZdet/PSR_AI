{
 "cells": [
  {
   "cell_type": "markdown",
   "metadata": {},
   "source": [
    "# How can our agent win?"
   ]
  },
  {
   "cell_type": "markdown",
   "metadata": {},
   "source": [
    "1. By prediction With RNN\n",
    "\n",
    "2. a reinforcement learning approach"
   ]
  },
  {
   "cell_type": "markdown",
   "metadata": {},
   "source": [
    "## Assumption:\n",
    "+ the opposite has a certain pattern of behaviour: Though the probability of each action is not fixed, the transition of the probablity influenced by the action is fixed.\n",
    "\n",
    "+ example: opposite will change their action clockwisely with 20% chance, 70% to stay the same and 10% to change counterclockwisely. This may be affected by the reslut of the game(win, tie or lose).   "
   ]
  },
  {
   "cell_type": "markdown",
   "metadata": {},
   "source": [
    "State: {+, -, O} * { W, T, L}\n",
    "action: {+, -, O}"
   ]
  }
 ],
 "metadata": {
  "anaconda-cloud": {},
  "kernelspec": {
   "display_name": "Python [default]",
   "language": "python",
   "name": "python3"
  },
  "language_info": {
   "codemirror_mode": {
    "name": "ipython",
    "version": 3
   },
   "file_extension": ".py",
   "mimetype": "text/x-python",
   "name": "python",
   "nbconvert_exporter": "python",
   "pygments_lexer": "ipython3",
   "version": "3.5.2"
  }
 },
 "nbformat": 4,
 "nbformat_minor": 1
}
